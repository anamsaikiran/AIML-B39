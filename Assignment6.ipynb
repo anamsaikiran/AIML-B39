{
  "nbformat": 4,
  "nbformat_minor": 0,
  "metadata": {
    "colab": {
      "provenance": [],
      "authorship_tag": "ABX9TyOVeN/yRegOBBiSsPHnruAh",
      "include_colab_link": true
    },
    "kernelspec": {
      "name": "python3",
      "display_name": "Python 3"
    },
    "language_info": {
      "name": "python"
    }
  },
  "cells": [
    {
      "cell_type": "markdown",
      "metadata": {
        "id": "view-in-github",
        "colab_type": "text"
      },
      "source": [
        "<a href=\"https://colab.research.google.com/github/anamsaikiran/AIML-B39/blob/main/Assignment6.ipynb\" target=\"_parent\"><img src=\"https://colab.research.google.com/assets/colab-badge.svg\" alt=\"Open In Colab\"/></a>"
      ]
    },
    {
      "cell_type": "code",
      "source": [
        "import pandas as pd\n",
        "from sklearn.preprocessing import MinMaxScaler\n",
        "from sklearn.model_selection import train_test_split\n",
        "\n",
        "data = pd.read_csv(\"/train.csv\")\n",
        "features = data.iloc[:, :-1]\n",
        "target = data.iloc[:, -1]\n",
        "\n",
        "scaler = MinMaxScaler()\n",
        "normalized_features = scaler.fit_transform(features)\n",
        "\n",
        "X_train, X_test, y_train, y_test = train_test_split(normalized_features, target, test_size=0.2, random_state=42)\n",
        "\n",
        "print(f\"Train features shape: {X_train.shape}\")\n",
        "print(f\"Test features shape: {X_test.shape}\")\n",
        "print(f\"Train target shape: {y_train.shape}\")\n",
        "print(f\"Test target shape: {y_test.shape}\")"
      ],
      "metadata": {
        "colab": {
          "base_uri": "https://localhost:8080/"
        },
        "id": "L7Ry7K9XD2HY",
        "outputId": "dfcd78d4-751f-4868-a66f-303d3f14660f"
      },
      "execution_count": 3,
      "outputs": [
        {
          "output_type": "stream",
          "name": "stdout",
          "text": [
            "Train features shape: (1600, 20)\n",
            "Test features shape: (400, 20)\n",
            "Train target shape: (1600,)\n",
            "Test target shape: (400,)\n"
          ]
        }
      ]
    },
    {
      "cell_type": "code",
      "source": [
        "import pandas as pd\n",
        "from sklearn.model_selection import train_test_split\n",
        "from sklearn.preprocessing import StandardScaler\n",
        "from sklearn.linear_model import LogisticRegression\n",
        "from sklearn.metrics import accuracy_score, precision_score, recall_score, confusion_matrix\n",
        "\n",
        "df = pd.read_csv(\"train2.csv\")\n",
        "selected_features = [\"ram\", \"battery_power\", \"px_width\", \"px_height\"]\n",
        "X = df[selected_features]\n",
        "y = df[\"price_range\"]\n",
        "X_train, X_test, y_train, y_test = train_test_split(X, y, test_size=0.2, random_state=42)\n",
        "\n",
        "scaler = StandardScaler()\n",
        "X_train_scaled = scaler.fit_transform(X_train)\n",
        "X_test_scaled = scaler.transform(X_test)\n",
        "lr_model = LogisticRegression(max_iter=1000)\n",
        "lr_model.fit(X_train_scaled, y_train)\n",
        "y_pred = lr_model.predict(X_test_scaled)\n",
        "accuracy = accuracy_score(y_test, y_pred)\n",
        "precision = precision_score(y_test, y_pred, average=\"weighted\")\n",
        "recall = recall_score(y_test, y_pred, average=\"weighted\")\n",
        "confusion = confusion_matrix(y_test, y_pred)\n",
        "\n",
        "print(\"Logistic Regression Model:\")\n",
        "print(f\"Accuracy: {accuracy:.4f}\")\n",
        "print(f\"Precision: {precision:.4f}\")\n",
        "print(f\"Recall: {recall:.4f}\")\n",
        "print(f\"Confusion Matrix:\\n{confusion}\\n\")"
      ],
      "metadata": {
        "colab": {
          "base_uri": "https://localhost:8080/"
        },
        "id": "2Xpg-u4PEc_b",
        "outputId": "b87150e4-ebaf-4c09-cf16-6cfcb22b11d1"
      },
      "execution_count": 4,
      "outputs": [
        {
          "output_type": "stream",
          "name": "stdout",
          "text": [
            "Logistic Regression Model:\n",
            "Accuracy: 0.9725\n",
            "Precision: 0.9730\n",
            "Recall: 0.9725\n",
            "Confusion Matrix:\n",
            "[[103   2   0   0]\n",
            " [  0  91   0   0]\n",
            " [  0   3  87   2]\n",
            " [  0   0   4 108]]\n",
            "\n"
          ]
        }
      ]
    }
  ]
}